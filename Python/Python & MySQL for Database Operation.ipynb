{
  "cells": [
    {
      "cell_type": "markdown",
      "metadata": {},
      "source": [
        "<div style=\"background-color: #1cb37a; color: #0e241d; border-radius: 0.2rem; padding: 10px; width: 90%; font-size: 16px;\">\n",
        "  <h1>How work with database in python + mysql</h1>\n",
        "  <p>With: Jat Kishan</p>\n",
        "</div>"
      ]
    },
    {
      "cell_type": "code",
      "execution_count": 7,
      "metadata": {},
      "outputs": [],
      "source": [
        "import os\n",
        "\n",
        "import pandas as pd\n",
        "import pymysql\n",
        "from dotenv import load_dotenv\n",
        "\n",
        "load_dotenv()\n",
        "\n",
        "MYSQL_PASSWORD = os.getenv(\"MYSQL_PASSWORD\")"
      ]
    },
    {
      "cell_type": "markdown",
      "metadata": {},
      "source": [
        "<div style=\"background-color: #1cb37a; color: #0e241d; border-radius: 0.2rem; padding: 10px; width: 90%; font-size: 16px;\">Creating database for student that contain review table in future</div>"
      ]
    },
    {
      "cell_type": "code",
      "execution_count": 9,
      "metadata": {},
      "outputs": [
        {
          "data": {
            "text/plain": [
              "1"
            ]
          },
          "execution_count": 9,
          "metadata": {},
          "output_type": "execute_result"
        }
      ],
      "source": [
        "mydb = pymysql.connect(host=\"localhost\", user=\"root\", password=MYSQL_PASSWORD)\n",
        "mycursor = mydb.cursor()\n",
        "mycursor.execute(\"CREATE DATABASE IF NOT EXISTS student\")"
      ]
    },
    {
      "cell_type": "markdown",
      "metadata": {},
      "source": [
        "<div style=\"background-color: #1cb37a; color: #0e241d; border-radius: 0.2rem; padding: 10px; width: 90%; font-size: 16px;\">Connecting to the mysql server. It can be located as local server or on cloud server. Here, we using mysql as local server</div>"
      ]
    },
    {
      "cell_type": "code",
      "execution_count": 10,
      "metadata": {},
      "outputs": [],
      "source": [
        "mydb = pymysql.connect(\n",
        "    host=\"localhost\", user=\"root\", password=\"Teto270+0\", database=\"student\"\n",
        ")\n",
        "mycursor = mydb.cursor()"
      ]
    },
    {
      "cell_type": "markdown",
      "metadata": {},
      "source": [
        "<div style=\"background-color: #1cb37a; color: #0e241d; border-radius: 0.2rem; padding: 10px; width: 90%; font-size: 16px;\">Creating review table for student review on books</div>"
      ]
    },
    {
      "cell_type": "code",
      "execution_count": 11,
      "metadata": {},
      "outputs": [
        {
          "data": {
            "text/plain": [
              "0"
            ]
          },
          "execution_count": 11,
          "metadata": {},
          "output_type": "execute_result"
        }
      ],
      "source": [
        "\n",
        "mycursor.execute(\"DROP TABLE IF EXISTS review\")\n",
        "\n",
        "create_table = \"\"\"\n",
        "    CREATE TABLE IF NOT EXISTS review(\n",
        "        id INT PRIMARY KEY AUTO_INCREMENT,\n",
        "        name varchar(50),\n",
        "        email varchar(50),\n",
        "        book varchar(100),\n",
        "        message varchar(255)\n",
        "    )\n",
        "\"\"\"\n",
        "\n",
        "mycursor.execute(create_table)"
      ]
    },
    {
      "cell_type": "markdown",
      "metadata": {},
      "source": [
        "<div style=\"background-color: #1cb37a; color: #0e241d; border-radius: 0.2rem; padding: 10px; width: 90%; font-size: 16px;\">Insert 12 data to the review with popular books in ML and computer science</div>"
      ]
    },
    {
      "cell_type": "code",
      "execution_count": 12,
      "metadata": {},
      "outputs": [],
      "source": [
        "book_reviews = [\n",
        "    (\n",
        "        \"Alice\",\n",
        "        \"alice@example.com\",\n",
        "        \"Deep Learning\",\n",
        "        \"A comprehensive guide to machine learning and neural networks.\",\n",
        "    ),\n",
        "    (\n",
        "        \"Bob\",\n",
        "        \"bob@example.com\",\n",
        "        \"Artificial Intelligence: A Modern Approach\",\n",
        "        \"An essential read for anyone interested in AI.\",\n",
        "    ),\n",
        "    (\n",
        "        \"Charlie\",\n",
        "        \"charlie@example.com\",\n",
        "        \"Pattern Recognition and Machine Learning\",\n",
        "        \"In-depth coverage of statistical pattern recognition techniques.\",\n",
        "    ),\n",
        "    (\n",
        "        \"David\",\n",
        "        \"david@example.com\",\n",
        "        \"The Elements of Statistical Learning\",\n",
        "        \"A must-have book for understanding statistical learning methods.\",\n",
        "    ),\n",
        "    (\n",
        "        \"Eve\",\n",
        "        \"eve@example.com\",\n",
        "        \"Machine Learning: A Probabilistic Perspective\",\n",
        "        \"Great insights into the probabilistic approach to machine learning.\",\n",
        "    ),\n",
        "    (\n",
        "        \"Frank\",\n",
        "        \"frank@example.com\",\n",
        "        \"Computer Vision: Algorithms and Applications\",\n",
        "        \"A detailed exploration of computer vision and its practical applications.\",\n",
        "    ),\n",
        "    (\n",
        "        \"Grace\",\n",
        "        \"grace@example.com\",\n",
        "        \"Reinforcement Learning: An Introduction\",\n",
        "        \"An excellent introduction to reinforcement learning and its algorithms.\",\n",
        "    ),\n",
        "    (\n",
        "        \"Heidi\",\n",
        "        \"heidi@example.com\",\n",
        "        \"Natural Language Processing with Python\",\n",
        "        \"A practical guide to NLP using Python and its libraries.\",\n",
        "    ),\n",
        "    (\n",
        "        \"Ivan\",\n",
        "        \"ivan@example.com\",\n",
        "        \"Hands-On Machine Learning with Scikit-Learn, Keras, and TensorFlow\",\n",
        "        \"A practical approach to machine learning with real-world examples.\",\n",
        "    ),\n",
        "    (\n",
        "        \"Judy\",\n",
        "        \"judy@example.com\",\n",
        "        \"Data Mining: Concepts and Techniques\",\n",
        "        \"An insightful book into the concepts of data mining and its techniques.\",\n",
        "    ),\n",
        "    (\n",
        "        \"Mallory\",\n",
        "        \"mallory@example.com\",\n",
        "        \"Introduction to the Theory of Computation\",\n",
        "        \"A fundamental book for understanding computational theory.\",\n",
        "    ),\n",
        "    (\n",
        "        \"Niaj\",\n",
        "        \"niaj@example.com\",\n",
        "        \"Computer Networking: A Top-Down Approach\",\n",
        "        \"A thorough exploration of computer networking principles.\",\n",
        "    ),\n",
        "]\n",
        "\n",
        "insert_query = \"\"\"\n",
        "    INSERT INTO review (name, email, book, message)\n",
        "    VALUES (%s, %s, %s, %s)\n",
        "\"\"\"\n",
        "\n",
        "mycursor.executemany(insert_query, book_reviews)\n",
        "mydb.commit()"
      ]
    },
    {
      "cell_type": "markdown",
      "metadata": {},
      "source": [
        "<div style=\"background-color: #1cb37a; color: #0e241d; border-radius: 0.2rem; padding: 10px; width: 90%; font-size: 16px;\">Using 'pandas' for showing that selected data from review table, for easy to showcase</div>"
      ]
    },
    {
      "cell_type": "code",
      "execution_count": 13,
      "metadata": {},
      "outputs": [
        {
          "name": "stderr",
          "output_type": "stream",
          "text": [
            "/tmp/ipykernel_10392/890830228.py:1: UserWarning: pandas only supports SQLAlchemy connectable (engine/connection) or database string URI or sqlite3 DBAPI2 connection. Other DBAPI2 objects are not tested. Please consider using SQLAlchemy.\n",
            "  df = pd.read_sql_query(\"SELECT * FROM review\", mydb)\n"
          ]
        },
        {
          "data": {
            "text/html": [
              "<div>\n",
              "<style scoped>\n",
              "    .dataframe tbody tr th:only-of-type {\n",
              "        vertical-align: middle;\n",
              "    }\n",
              "\n",
              "    .dataframe tbody tr th {\n",
              "        vertical-align: top;\n",
              "    }\n",
              "\n",
              "    .dataframe thead th {\n",
              "        text-align: right;\n",
              "    }\n",
              "</style>\n",
              "<table border=\"1\" class=\"dataframe\">\n",
              "  <thead>\n",
              "    <tr style=\"text-align: right;\">\n",
              "      <th></th>\n",
              "      <th>id</th>\n",
              "      <th>name</th>\n",
              "      <th>email</th>\n",
              "      <th>book</th>\n",
              "      <th>message</th>\n",
              "    </tr>\n",
              "  </thead>\n",
              "  <tbody>\n",
              "    <tr>\n",
              "      <th>0</th>\n",
              "      <td>1</td>\n",
              "      <td>Alice</td>\n",
              "      <td>alice@example.com</td>\n",
              "      <td>Deep Learning</td>\n",
              "      <td>A comprehensive guide to machine learning and ...</td>\n",
              "    </tr>\n",
              "    <tr>\n",
              "      <th>1</th>\n",
              "      <td>2</td>\n",
              "      <td>Bob</td>\n",
              "      <td>bob@example.com</td>\n",
              "      <td>Artificial Intelligence: A Modern Approach</td>\n",
              "      <td>An essential read for anyone interested in AI.</td>\n",
              "    </tr>\n",
              "    <tr>\n",
              "      <th>2</th>\n",
              "      <td>3</td>\n",
              "      <td>Charlie</td>\n",
              "      <td>charlie@example.com</td>\n",
              "      <td>Pattern Recognition and Machine Learning</td>\n",
              "      <td>In-depth coverage of statistical pattern recog...</td>\n",
              "    </tr>\n",
              "    <tr>\n",
              "      <th>3</th>\n",
              "      <td>4</td>\n",
              "      <td>David</td>\n",
              "      <td>david@example.com</td>\n",
              "      <td>The Elements of Statistical Learning</td>\n",
              "      <td>A must-have book for understanding statistical...</td>\n",
              "    </tr>\n",
              "    <tr>\n",
              "      <th>4</th>\n",
              "      <td>5</td>\n",
              "      <td>Eve</td>\n",
              "      <td>eve@example.com</td>\n",
              "      <td>Machine Learning: A Probabilistic Perspective</td>\n",
              "      <td>Great insights into the probabilistic approach...</td>\n",
              "    </tr>\n",
              "    <tr>\n",
              "      <th>5</th>\n",
              "      <td>6</td>\n",
              "      <td>Frank</td>\n",
              "      <td>frank@example.com</td>\n",
              "      <td>Computer Vision: Algorithms and Applications</td>\n",
              "      <td>A detailed exploration of computer vision and ...</td>\n",
              "    </tr>\n",
              "    <tr>\n",
              "      <th>6</th>\n",
              "      <td>7</td>\n",
              "      <td>Grace</td>\n",
              "      <td>grace@example.com</td>\n",
              "      <td>Reinforcement Learning: An Introduction</td>\n",
              "      <td>An excellent introduction to reinforcement lea...</td>\n",
              "    </tr>\n",
              "    <tr>\n",
              "      <th>7</th>\n",
              "      <td>8</td>\n",
              "      <td>Heidi</td>\n",
              "      <td>heidi@example.com</td>\n",
              "      <td>Natural Language Processing with Python</td>\n",
              "      <td>A practical guide to NLP using Python and its ...</td>\n",
              "    </tr>\n",
              "    <tr>\n",
              "      <th>8</th>\n",
              "      <td>9</td>\n",
              "      <td>Ivan</td>\n",
              "      <td>ivan@example.com</td>\n",
              "      <td>Hands-On Machine Learning with Scikit-Learn, K...</td>\n",
              "      <td>A practical approach to machine learning with ...</td>\n",
              "    </tr>\n",
              "    <tr>\n",
              "      <th>9</th>\n",
              "      <td>10</td>\n",
              "      <td>Judy</td>\n",
              "      <td>judy@example.com</td>\n",
              "      <td>Data Mining: Concepts and Techniques</td>\n",
              "      <td>An insightful book into the concepts of data m...</td>\n",
              "    </tr>\n",
              "    <tr>\n",
              "      <th>10</th>\n",
              "      <td>11</td>\n",
              "      <td>Mallory</td>\n",
              "      <td>mallory@example.com</td>\n",
              "      <td>Introduction to the Theory of Computation</td>\n",
              "      <td>A fundamental book for understanding computati...</td>\n",
              "    </tr>\n",
              "    <tr>\n",
              "      <th>11</th>\n",
              "      <td>12</td>\n",
              "      <td>Niaj</td>\n",
              "      <td>niaj@example.com</td>\n",
              "      <td>Computer Networking: A Top-Down Approach</td>\n",
              "      <td>A thorough exploration of computer networking ...</td>\n",
              "    </tr>\n",
              "  </tbody>\n",
              "</table>\n",
              "</div>"
            ],
            "text/plain": [
              "    id     name                email  \\\n",
              "0    1    Alice    alice@example.com   \n",
              "1    2      Bob      bob@example.com   \n",
              "2    3  Charlie  charlie@example.com   \n",
              "3    4    David    david@example.com   \n",
              "4    5      Eve      eve@example.com   \n",
              "5    6    Frank    frank@example.com   \n",
              "6    7    Grace    grace@example.com   \n",
              "7    8    Heidi    heidi@example.com   \n",
              "8    9     Ivan     ivan@example.com   \n",
              "9   10     Judy     judy@example.com   \n",
              "10  11  Mallory  mallory@example.com   \n",
              "11  12     Niaj     niaj@example.com   \n",
              "\n",
              "                                                 book  \\\n",
              "0                                       Deep Learning   \n",
              "1          Artificial Intelligence: A Modern Approach   \n",
              "2            Pattern Recognition and Machine Learning   \n",
              "3                The Elements of Statistical Learning   \n",
              "4       Machine Learning: A Probabilistic Perspective   \n",
              "5        Computer Vision: Algorithms and Applications   \n",
              "6             Reinforcement Learning: An Introduction   \n",
              "7             Natural Language Processing with Python   \n",
              "8   Hands-On Machine Learning with Scikit-Learn, K...   \n",
              "9                Data Mining: Concepts and Techniques   \n",
              "10          Introduction to the Theory of Computation   \n",
              "11           Computer Networking: A Top-Down Approach   \n",
              "\n",
              "                                              message  \n",
              "0   A comprehensive guide to machine learning and ...  \n",
              "1      An essential read for anyone interested in AI.  \n",
              "2   In-depth coverage of statistical pattern recog...  \n",
              "3   A must-have book for understanding statistical...  \n",
              "4   Great insights into the probabilistic approach...  \n",
              "5   A detailed exploration of computer vision and ...  \n",
              "6   An excellent introduction to reinforcement lea...  \n",
              "7   A practical guide to NLP using Python and its ...  \n",
              "8   A practical approach to machine learning with ...  \n",
              "9   An insightful book into the concepts of data m...  \n",
              "10  A fundamental book for understanding computati...  \n",
              "11  A thorough exploration of computer networking ...  "
            ]
          },
          "execution_count": 13,
          "metadata": {},
          "output_type": "execute_result"
        }
      ],
      "source": [
        "df = pd.read_sql_query(\"SELECT * FROM review\", mydb)\n",
        "df"
      ]
    },
    {
      "cell_type": "markdown",
      "metadata": {},
      "source": [
        "<div style=\"background-color: #1cb37a; color: #0e241d; border-radius: 0.2rem; padding: 10px; width: 90%; font-size: 16px;\">Showing data by id</div>"
      ]
    },
    {
      "cell_type": "code",
      "execution_count": 14,
      "metadata": {},
      "outputs": [],
      "source": [
        "def select_bookreview(id: int) -> bool:\n",
        "    df = pd.read_sql_query(f\"SELECT * FROM review WHERE id={id}\", mydb)\n",
        "    print(df)\n",
        "    return True if len(df) == 1 else False"
      ]
    },
    {
      "cell_type": "code",
      "execution_count": 15,
      "metadata": {},
      "outputs": [
        {
          "name": "stdout",
          "output_type": "stream",
          "text": [
            "   id name            email                                        book  \\\n",
            "0   2  Bob  bob@example.com  Artificial Intelligence: A Modern Approach   \n",
            "\n",
            "                                          message  \n",
            "0  An essential read for anyone interested in AI.  \n"
          ]
        },
        {
          "name": "stderr",
          "output_type": "stream",
          "text": [
            "/tmp/ipykernel_10392/3376080451.py:2: UserWarning: pandas only supports SQLAlchemy connectable (engine/connection) or database string URI or sqlite3 DBAPI2 connection. Other DBAPI2 objects are not tested. Please consider using SQLAlchemy.\n",
            "  df = pd.read_sql_query(f\"SELECT * FROM review WHERE id={id}\", mydb)\n"
          ]
        },
        {
          "data": {
            "text/plain": [
              "True"
            ]
          },
          "execution_count": 15,
          "metadata": {},
          "output_type": "execute_result"
        }
      ],
      "source": [
        "select_bookreview(id=2)"
      ]
    },
    {
      "cell_type": "markdown",
      "metadata": {},
      "source": [
        "<div style=\"background-color: #1cb37a; color: #0e241d; border-radius: 0.2rem; padding: 10px; width: 90%; font-size: 16px;\">Updating book and message in book review</div>"
      ]
    },
    {
      "cell_type": "code",
      "execution_count": 16,
      "metadata": {},
      "outputs": [],
      "source": [
        "def update_bookreview(id: int) -> None:\n",
        "    if not select_bookreview(id):\n",
        "        print(f\"id: {id}, not any record\")\n",
        "        return\n",
        "\n",
        "    book = input(\"Book (empty for no change): \")\n",
        "    message = input(\"Message (empty for no change): \")\n",
        "\n",
        "    book_update = f\"book='{book}',\" if book else None\n",
        "    message_update = f\"message='{message}'\" if message else None\n",
        "    if book_update or message_update:\n",
        "        update = f\"UPDATE review SET {book_update} {message_update} WHERE id={id}\"\n",
        "        mycursor.execute(update)"
      ]
    },
    {
      "cell_type": "code",
      "execution_count": 17,
      "metadata": {},
      "outputs": [
        {
          "name": "stderr",
          "output_type": "stream",
          "text": [
            "/tmp/ipykernel_10392/3376080451.py:2: UserWarning: pandas only supports SQLAlchemy connectable (engine/connection) or database string URI or sqlite3 DBAPI2 connection. Other DBAPI2 objects are not tested. Please consider using SQLAlchemy.\n",
            "  df = pd.read_sql_query(f\"SELECT * FROM review WHERE id={id}\", mydb)\n"
          ]
        },
        {
          "name": "stdout",
          "output_type": "stream",
          "text": [
            "   id name            email                                        book  \\\n",
            "0   2  Bob  bob@example.com  Artificial Intelligence: A Modern Approach   \n",
            "\n",
            "                                          message  \n",
            "0  An essential read for anyone interested in AI.  \n"
          ]
        }
      ],
      "source": [
        "update_bookreview(id=2)"
      ]
    },
    {
      "cell_type": "markdown",
      "metadata": {},
      "source": [
        "<div style=\"background-color: #1cb37a; color: #0e241d; border-radius: 0.2rem; padding: 10px; width: 90%; font-size: 16px;\">Deleting book review</div>"
      ]
    },
    {
      "cell_type": "code",
      "execution_count": 18,
      "metadata": {},
      "outputs": [],
      "source": [
        "def delete_bookreview(id: int) -> None:\n",
        "    if not select_bookreview(id):\n",
        "        print(f\"id: {id}, not any record\")\n",
        "        return\n",
        "    conform = input(\"you wont to delete (y/n):\")\n",
        "    if conform == \"y\":\n",
        "        delete = f\"DELETE FROM review WHERE id={id}\"\n",
        "        mycursor.execute(delete)"
      ]
    },
    {
      "cell_type": "code",
      "execution_count": 19,
      "metadata": {},
      "outputs": [
        {
          "name": "stderr",
          "output_type": "stream",
          "text": [
            "/tmp/ipykernel_10392/3376080451.py:2: UserWarning: pandas only supports SQLAlchemy connectable (engine/connection) or database string URI or sqlite3 DBAPI2 connection. Other DBAPI2 objects are not tested. Please consider using SQLAlchemy.\n",
            "  df = pd.read_sql_query(f\"SELECT * FROM review WHERE id={id}\", mydb)\n"
          ]
        },
        {
          "name": "stdout",
          "output_type": "stream",
          "text": [
            "   id name            email                 book                      message\n",
            "0   2  Bob  bob@example.com  AI: Modern Approach  for anyone interested in AI\n"
          ]
        }
      ],
      "source": [
        "delete_bookreview(id=2)"
      ]
    },
    {
      "cell_type": "markdown",
      "metadata": {},
      "source": [
        "<div style=\"background-color: #1cb37a; color: #0e241d; border-radius: 0.2rem; padding: 10px; width: 90%; font-size: 16px;\">Searching by book name</div>"
      ]
    },
    {
      "cell_type": "code",
      "execution_count": 20,
      "metadata": {},
      "outputs": [],
      "source": [
        "def search_book_like(book: str) -> bool:\n",
        "    query = f\"SELECT * FROM review WHERE book LIKE '%{book}%'\"\n",
        "    df = pd.read_sql_query(query, mydb)\n",
        "    print(df)\n",
        "    return not df.empty"
      ]
    },
    {
      "cell_type": "code",
      "execution_count": 21,
      "metadata": {},
      "outputs": [
        {
          "name": "stdout",
          "output_type": "stream",
          "text": [
            "   id     name                email  \\\n",
            "0   1    Alice    alice@example.com   \n",
            "1   3  Charlie  charlie@example.com   \n",
            "2   4    David    david@example.com   \n",
            "3   5      Eve      eve@example.com   \n",
            "4   7    Grace    grace@example.com   \n",
            "5   9     Ivan     ivan@example.com   \n",
            "\n",
            "                                                book  \\\n",
            "0                                      Deep Learning   \n",
            "1           Pattern Recognition and Machine Learning   \n",
            "2               The Elements of Statistical Learning   \n",
            "3      Machine Learning: A Probabilistic Perspective   \n",
            "4            Reinforcement Learning: An Introduction   \n",
            "5  Hands-On Machine Learning with Scikit-Learn, K...   \n",
            "\n",
            "                                             message  \n",
            "0  A comprehensive guide to machine learning and ...  \n",
            "1  In-depth coverage of statistical pattern recog...  \n",
            "2  A must-have book for understanding statistical...  \n",
            "3  Great insights into the probabilistic approach...  \n",
            "4  An excellent introduction to reinforcement lea...  \n",
            "5  A practical approach to machine learning with ...  \n"
          ]
        },
        {
          "name": "stderr",
          "output_type": "stream",
          "text": [
            "/tmp/ipykernel_10392/4129641303.py:3: UserWarning: pandas only supports SQLAlchemy connectable (engine/connection) or database string URI or sqlite3 DBAPI2 connection. Other DBAPI2 objects are not tested. Please consider using SQLAlchemy.\n",
            "  df = pd.read_sql_query(query, mydb)\n"
          ]
        },
        {
          "data": {
            "text/plain": [
              "True"
            ]
          },
          "execution_count": 21,
          "metadata": {},
          "output_type": "execute_result"
        }
      ],
      "source": [
        "search_book_like(\"Learning\")"
      ]
    }
  ],
  "metadata": {
    "kernelspec": {
      "display_name": "solveWithPython-4w7AOZSU",
      "language": "python",
      "name": "python3"
    },
    "language_info": {
      "codemirror_mode": {
        "name": "ipython",
        "version": 3
      },
      "file_extension": ".py",
      "mimetype": "text/x-python",
      "name": "python",
      "nbconvert_exporter": "python",
      "pygments_lexer": "ipython3",
      "version": "3.12.3"
    }
  },
  "nbformat": 4,
  "nbformat_minor": 2
}
